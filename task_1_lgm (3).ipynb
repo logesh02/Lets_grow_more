{
  "nbformat": 4,
  "nbformat_minor": 0,
  "metadata": {
    "colab": {
      "name": "task 1 lgm.ipynb",
      "provenance": [],
      "collapsed_sections": []
    },
    "kernelspec": {
      "name": "python3",
      "display_name": "Python 3"
    },
    "language_info": {
      "name": "python"
    }
  },
  "cells": [
    {
      "cell_type": "code",
      "metadata": {
        "id": "ua92fWP6bep4"
      },
      "source": [
        "import tensorflow as tsf\n",
        "from numpy import unique,argmax\n",
        "from matplotlib import pyplot\n",
        "import matplotlib.pyplot as plt\n",
        "import numpy as np"
      ],
      "execution_count": 1,
      "outputs": []
    },
    {
      "cell_type": "code",
      "metadata": {
        "id": "3AAuBf9qbz3J",
        "colab": {
          "base_uri": "https://localhost:8080/"
        },
        "outputId": "5bc0bd37-120a-4977-9c7a-35b87c5d9566"
      },
      "source": [
        "mnist = tsf.keras.datasets.mnist\n",
        "(x_train,y_train),(x_test,y_test) = mnist.load_data()"
      ],
      "execution_count": 2,
      "outputs": [
        {
          "output_type": "stream",
          "name": "stdout",
          "text": [
            "Downloading data from https://storage.googleapis.com/tensorflow/tf-keras-datasets/mnist.npz\n",
            "11493376/11490434 [==============================] - 0s 0us/step\n",
            "11501568/11490434 [==============================] - 0s 0us/step\n"
          ]
        }
      ]
    },
    {
      "cell_type": "code",
      "metadata": {
        "id": "F1siG7cqb2hj"
      },
      "source": [
        "x_train = x_train.reshape((x_train.shape[0],x_train.shape[1],x_train.shape[2],1))\n",
        "x_test = x_test.reshape((x_test.shape[0],x_test.shape[1],x_test.shape[2],1))"
      ],
      "execution_count": 3,
      "outputs": []
    },
    {
      "cell_type": "code",
      "metadata": {
        "id": "81SNBRg-b5_d"
      },
      "source": [
        "x_train = x_train.astype('float32')/255.0\n",
        "x_test = x_test.astype('float32')/255.0"
      ],
      "execution_count": 4,
      "outputs": []
    },
    {
      "cell_type": "code",
      "metadata": {
        "colab": {
          "base_uri": "https://localhost:8080/",
          "height": 124
        },
        "id": "zEVOPCFKb9sl",
        "outputId": "f462f74c-6a11-4440-a95f-66e18e4ab8bb"
      },
      "source": [
        "fig = plt.figure(figsize = (3,2))\n",
        "for i in range(20):\n",
        "    ax = fig.add_subplot(2,10,i+1,xticks =[],yticks = [])\n",
        "    ax.imshow(np.squeeze(x_train[i]),cmap = 'spring')\n",
        "    ax.set_title(y_train[i])\n"
      ],
      "execution_count": 9,
      "outputs": [
        {
          "output_type": "display_data",
          "data": {
            "image/png": "[encoded data removed]",
            "text/plain": [
              "<Figure size 216x144 with 20 Axes>"
            ]
          },
          "metadata": {}
        }
      ]
    },
    {
      "cell_type": "code",
      "metadata": {
        "colab": {
          "base_uri": "https://localhost:8080/"
        },
        "id": "kLw_MbxUcAWM",
        "outputId": "0eedfb2d-4cfd-4c4e-adb2-5b1bd833e44d"
      },
      "source": [
        "img_shape = x_train.shape[1:]\n",
        "img_shape"
      ],
      "execution_count": null,
      "outputs": [
        {
          "output_type": "execute_result",
          "data": {
            "text/plain": [
              "(28, 28, 1)"
            ]
          },
          "metadata": {},
          "execution_count": 6
        }
      ]
    },
    {
      "cell_type": "code",
      "metadata": {
        "id": "rorbQVTTcHwU"
      },
      "source": [
        "import tensorflow as tfs\n",
        "model = tsf.keras.models.Sequential([tsf.keras.layers.Flatten(input_shape=(28, 28)),\n",
        "\n",
        "  tsf.keras.layers.Dense(128, activation='relu'),\n",
        "\n",
        "  tsf.keras.layers.Dropout(0.2),\n",
        "\n",
        "  tsf.keras.layers.Dense(10)])"
      ],
      "execution_count": null,
      "outputs": []
    },
    {
      "cell_type": "code",
      "metadata": {
        "colab": {
          "base_uri": "https://localhost:8080/"
        },
        "id": "pZ7PMEiYcKrM",
        "outputId": "a3c5f538-5fec-4005-9ff3-86378551495c"
      },
      "source": [
        "model.summary()"
      ],
      "execution_count": null,
      "outputs": [
        {
          "output_type": "stream",
          "name": "stdout",
          "text": [
            "Model: \"sequential\"\n",
            "_________________________________________________________________\n",
            "Layer (type)                 Output Shape              Param #   \n",
            "=================================================================\n",
            "flatten (Flatten)            (None, 784)               0         \n",
            "_________________________________________________________________\n",
            "dense (Dense)                (None, 128)               100480    \n",
            "_________________________________________________________________\n",
            "dropout (Dropout)            (None, 128)               0         \n",
            "_________________________________________________________________\n",
            "dense_1 (Dense)              (None, 10)                1290      \n",
            "=================================================================\n",
            "Total params: 101,770\n",
            "Trainable params: 101,770\n",
            "Non-trainable params: 0\n",
            "_________________________________________________________________\n"
          ]
        }
      ]
    },
    {
      "cell_type": "code",
      "metadata": {
        "colab": {
          "base_uri": "https://localhost:8080/"
        },
        "id": "Z5eeGfa9coau",
        "outputId": "f59dd2c1-9bae-49ce-8e26-98acfd992886"
      },
      "source": [
        "predictions = model(x_train[:1]).numpy()\n",
        "\n",
        "predictions"
      ],
      "execution_count": null,
      "outputs": [
        {
          "output_type": "execute_result",
          "data": {
            "text/plain": [
              "array([[ 0.2164941 , -0.3077578 , -0.41087428, -0.14100903,  0.1964376 ,\n",
              "         0.142781  ,  0.32523435, -0.21064122,  0.45882362,  0.13442457]],\n",
              "      dtype=float32)"
            ]
          },
          "metadata": {},
          "execution_count": 9
        }
      ]
    },
    {
      "cell_type": "code",
      "metadata": {
        "colab": {
          "base_uri": "https://localhost:8080/"
        },
        "id": "L0v4e39Kcu0K",
        "outputId": "ad6378be-5afa-45ef-beab-dea6c592a7cc"
      },
      "source": [
        "tsf.nn.softmax(predictions).numpy()"
      ],
      "execution_count": null,
      "outputs": [
        {
          "output_type": "execute_result",
          "data": {
            "text/plain": [
              "array([[0.11497998, 0.06806793, 0.06139876, 0.08041936, 0.11269686,\n",
              "        0.1068093 , 0.12818804, 0.0750101 , 0.14650911, 0.10592047]],\n",
              "      dtype=float32)"
            ]
          },
          "metadata": {},
          "execution_count": 10
        }
      ]
    },
    {
      "cell_type": "code",
      "metadata": {
        "id": "-KdD-sVycys7"
      },
      "source": [
        "loss_fn = tsf.keras.losses.SparseCategoricalCrossentropy(from_logits=True)\n",
        "loss_fn(y_train[:1], predictions).numpy()\n",
        "model.compile(optimizer='adam',loss=loss_fn, metrics=['accuracy'])"
      ],
      "execution_count": null,
      "outputs": []
    },
    {
      "cell_type": "code",
      "metadata": {
        "colab": {
          "base_uri": "https://localhost:8080/"
        },
        "id": "c74X9kNtc1fK",
        "outputId": "1e64b88d-e644-49b4-ab09-9d9ed95f34e1"
      },
      "source": [
        "model.fit(x_train, y_train, epochs=5)\n"
      ],
      "execution_count": null,
      "outputs": [
        {
          "output_type": "stream",
          "name": "stdout",
          "text": [
            "Epoch 1/5\n",
            "1875/1875 [==============================] - 5s 3ms/step - loss: 0.2949 - accuracy: 0.9151\n",
            "Epoch 2/5\n",
            "1875/1875 [==============================] - 4s 2ms/step - loss: 0.1455 - accuracy: 0.9578\n",
            "Epoch 3/5\n",
            "1875/1875 [==============================] - 4s 2ms/step - loss: 0.1082 - accuracy: 0.9671\n",
            "Epoch 4/5\n",
            "1875/1875 [==============================] - 4s 2ms/step - loss: 0.0903 - accuracy: 0.9719\n",
            "Epoch 5/5\n",
            "1875/1875 [==============================] - 4s 2ms/step - loss: 0.0753 - accuracy: 0.9766\n"
          ]
        },
        {
          "output_type": "execute_result",
          "data": {
            "text/plain": [
              "<keras.callbacks.History at 0x7fa7c4ed5e50>"
            ]
          },
          "metadata": {},
          "execution_count": 12
        }
      ]
    },
    {
      "cell_type": "code",
      "metadata": {
        "colab": {
          "base_uri": "https://localhost:8080/"
        },
        "id": "uZHAAq20dATr",
        "outputId": "fec9fbe6-db78-4af6-dc03-6b1d77c903a2"
      },
      "source": [
        "model.evaluate(x_test,  y_test, verbose=5)\n"
      ],
      "execution_count": null,
      "outputs": [
        {
          "output_type": "execute_result",
          "data": {
            "text/plain": [
              "[0.0837613120675087, 0.9743000268936157]"
            ]
          },
          "metadata": {},
          "execution_count": 13
        }
      ]
    },
    {
      "cell_type": "code",
      "metadata": {
        "colab": {
          "base_uri": "https://localhost:8080/"
        },
        "id": "y33_Q-TwdDk-",
        "outputId": "ee02dd3d-ccec-4e80-8b72-e150c55ae17c"
      },
      "source": [
        "probability_model = tsf.keras.Sequential([ model, tsf.keras.layers.Softmax() ])\n",
        "probability_model(x_test[:5])"
      ],
      "execution_count": null,
      "outputs": [
        {
          "output_type": "execute_result",
          "data": {
            "text/plain": [
              "<tf.Tensor: shape=(5, 10), dtype=float32, numpy=\n",
              "array([[1.4638146e-31, 5.7515699e-24, 1.1294311e-18, 0.0000000e+00,\n",
              "        1.0000000e+00, 0.0000000e+00, 0.0000000e+00, 0.0000000e+00,\n",
              "        1.2553769e-38, 2.3249483e-35],\n",
              "       [0.0000000e+00, 0.0000000e+00, 0.0000000e+00, 0.0000000e+00,\n",
              "        2.0455137e-22, 0.0000000e+00, 0.0000000e+00, 0.0000000e+00,\n",
              "        0.0000000e+00, 1.0000000e+00],\n",
              "       [1.0142247e-33, 1.3433073e-32, 2.4183536e-01, 3.5690245e-32,\n",
              "        5.9881512e-02, 0.0000000e+00, 2.6755835e-26, 0.0000000e+00,\n",
              "        0.0000000e+00, 6.9828314e-01],\n",
              "       [0.0000000e+00, 0.0000000e+00, 0.0000000e+00, 2.1927284e-34,\n",
              "        6.3621275e-11, 0.0000000e+00, 2.0547144e-11, 0.0000000e+00,\n",
              "        1.0000000e+00, 2.8979909e-16],\n",
              "       [0.0000000e+00, 1.6339867e-33, 1.0174260e-25, 0.0000000e+00,\n",
              "        1.3581206e-10, 0.0000000e+00, 4.3548159e-02, 0.0000000e+00,\n",
              "        9.5645189e-01, 9.4325380e-35]], dtype=float32)>"
            ]
          },
          "metadata": {},
          "execution_count": 27
        }
      ]
    },
    {
      "cell_type": "code",
      "metadata": {
        "colab": {
          "base_uri": "https://localhost:8080/",
          "height": 265
        },
        "id": "4-ePgVzCdFxr",
        "outputId": "3b741a4f-47a5-487c-9a69-b21b558b9a8f"
      },
      "source": [
        "img = x_train[3]\n",
        "plt.imshow(np.squeeze(img) ,cmap='gray')\n",
        "plt.show()"
      ],
      "execution_count": null,
      "outputs": [
        {
          "output_type": "display_data",
          "data": {
            "image/png": "[encoded data removed]",
            "text/plain": [
              "<Figure size 432x288 with 1 Axes>"
            ]
          },
          "metadata": {
            "needs_background": "light"
          }
        }
      ]
    },
    {
      "cell_type": "code",
      "metadata": {
        "colab": {
          "base_uri": "https://localhost:8080/"
        },
        "id": "ljEC7LgDdKcV",
        "outputId": "1c3316ba-6cb1-464a-e79e-6a19ba5ffebd"
      },
      "source": [
        "img= img.reshape(1, img.shape[0],img.shape[1],img.shape[2])\n",
        "p= model.predict([img])\n",
        "print(\"predicted is : {}\".format(argmax(p)))"
      ],
      "execution_count": null,
      "outputs": [
        {
          "output_type": "stream",
          "name": "stdout",
          "text": [
            "predicted is : 2\n"
          ]
        }
      ]
    }
  ]
}